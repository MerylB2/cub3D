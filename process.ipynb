{
 "cells": [
  {
   "cell_type": "markdown",
   "id": "5b7a0234",
   "metadata": {},
   "source": [
    "``` /*\n",
    " * ARBORESCENCE DU PROJET\n",
    " * ======================\n",
    " *\n",
    " * cub3d/\n",
    " * ├── Makefile\n",
    " * ├── includes/\n",
    " * │   ├── cub3d.h           # Header principal\n",
    " * │   ├── structs.h         # Toutes les structures\n",
    " * │   ├── parser.h          # Prototypes parsing\n",
    " * │   └── raycasting.h      # Prototypes raycasting\n",
    " * ├── srcs/\n",
    " * │   ├── main.c            # Point d'entrée\n",
    " * │   ├── init/\n",
    " * │   │   ├── init_game.c\n",
    " * │   │   ├── init_mlx.c\n",
    " * │   │   └── init_textures.c\n",
    " * │   ├── parser/\n",
    " * │   │   ├── parser.c\n",
    " * │   │   ├── parser_config.c\n",
    " * │   │   ├── parser_map.c\n",
    " * │   │   ├── parser_colors.c\n",
    " * │   │   └── parser_validation.c\n",
    " * │   ├── raycasting/\n",
    " * │   │   ├── raycasting.c\n",
    " * │   │   ├── dda.c\n",
    " * │   │   ├── textures.c\n",
    " * │   │   └── render.c\n",
    " * │   ├── controls/\n",
    " * │   │   ├── key_hooks.c\n",
    " * │   │   ├── movement.c\n",
    " * │   │   └── rotation.c\n",
    " * │   ├── utils/\n",
    " * │   │   ├── utils.c\n",
    " * │   │   ├── error.c\n",
    " * │   │   └── free.c\n",
    " * │   └── exit/\n",
    " * │       └── exit_game.c\n",
    " * ├── textures/\n",
    " * │   ├── north.xpm\n",
    " * │   ├── south.xpm\n",
    " * │   ├── east.xpm\n",
    " * │   └── west.xpm\n",
    " * └── maps/\n",
    " *     ├── valid_map.cub\n",
    " *     └── test_map.cub\n",
    " */\n",
    " ```"
   ]
  }
 ],
 "metadata": {
  "language_info": {
   "name": "python"
  }
 },
 "nbformat": 4,
 "nbformat_minor": 5
}
